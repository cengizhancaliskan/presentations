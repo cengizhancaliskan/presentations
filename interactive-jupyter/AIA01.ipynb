{
 "cells": [
  {
   "cell_type": "code",
   "execution_count": 56,
   "metadata": {},
   "outputs": [],
   "source": [
    "x=7\n",
    "y=1"
   ]
  },
  {
   "cell_type": "code",
   "execution_count": 64,
   "metadata": {},
   "outputs": [
    {
     "name": "stdout",
     "output_type": "stream",
     "text": [
      "Package                  Version  \n",
      "------------------------ ---------\n",
      "absl-py                  0.8.0    \n",
      "appnope                  0.1.0    \n",
      "asn1crypto               0.22.0   \n",
      "astor                    0.8.0    \n",
      "attrs                    19.1.0   \n",
      "backcall                 0.1.0    \n",
      "bleach                   3.1.0    \n",
      "certifi                  2019.6.16\n",
      "cffi                     1.10.0   \n",
      "chardet                  3.0.4    \n",
      "conda                    4.7.11   \n",
      "conda-package-handling   1.3.11   \n",
      "cryptography             2.0.3    \n",
      "cycler                   0.10.0   \n",
      "decorator                4.4.0    \n",
      "defusedxml               0.6.0    \n",
      "dill                     0.3.1.1  \n",
      "entrypoints              0.3      \n",
      "future                   0.18.1   \n",
      "gast                     0.2.2    \n",
      "google-pasta             0.1.7    \n",
      "googleapis-common-protos 1.6.0    \n",
      "grpcio                   1.23.0   \n",
      "h5py                     2.9.0    \n",
      "idna                     2.6      \n",
      "ipykernel                5.1.2    \n",
      "ipython                  7.8.0    \n",
      "ipython-genutils         0.2.0    \n",
      "ipywidgets               7.5.1    \n",
      "jedi                     0.15.1   \n",
      "Jinja2                   2.10.1   \n",
      "json5                    0.8.5    \n",
      "jsonschema               3.0.2    \n",
      "jupyter                  1.0.0    \n",
      "jupyter-client           5.3.1    \n",
      "jupyter-console          6.0.0    \n",
      "jupyter-core             4.5.0    \n",
      "jupyterlab               1.1.2    \n",
      "jupyterlab-server        1.0.6    \n",
      "Keras-Applications       1.0.8    \n",
      "Keras-Preprocessing      1.1.0    \n",
      "kiwisolver               1.1.0    \n",
      "libarchive-c             2.8      \n",
      "Markdown                 3.1.1    \n",
      "MarkupSafe               1.1.1    \n",
      "matplotlib               3.1.1    \n",
      "mistune                  0.8.4    \n",
      "nbconvert                5.5.0    \n",
      "nbformat                 4.4.0    \n",
      "notebook                 6.0.0    \n",
      "numpy                    1.17.3   \n",
      "oauthlib                 3.1.0    \n",
      "opt-einsum               3.1.0    \n",
      "pandas                   0.25.1   \n",
      "pandocfilters            1.4.2    \n",
      "parso                    0.5.1    \n",
      "pexpect                  4.7.0    \n",
      "pickleshare              0.7.5    \n",
      "pip                      19.1.1   \n",
      "prometheus-client        0.7.1    \n",
      "promise                  2.2.1    \n",
      "prompt-toolkit           2.0.9    \n",
      "protobuf                 3.9.1    \n",
      "ptyprocess               0.6.0    \n",
      "py4j                     0.10.7   \n",
      "pycosat                  0.6.3    \n",
      "pycparser                2.18     \n",
      "Pygments                 2.4.2    \n",
      "pymongo                  3.8.0    \n",
      "pyOpenSSL                17.2.0   \n",
      "pyparsing                2.4.2    \n",
      "pyrsistent               0.14.11  \n",
      "PySocks                  1.6.7    \n",
      "pyspark                  2.4.4    \n",
      "python-dateutil          2.8.0    \n",
      "pytz                     2019.2   \n",
      "PyYAML                   5.1.2    \n",
      "pyzmq                    18.1.0   \n",
      "qtconsole                4.5.4    \n",
      "requests                 2.22.0   \n",
      "requests-oauthlib        1.2.0    \n",
      "ruamel-yaml              0.11.14  \n",
      "Send2Trash               1.5.0    \n",
      "setuptools               41.2.0   \n",
      "six                      1.11.0   \n",
      "tensorboard              2.0.0    \n",
      "tensorflow               2.0.0    \n",
      "tensorflow-datasets      1.3.0    \n",
      "tensorflow-estimator     2.0.1    \n",
      "tensorflow-metadata      0.15.0   \n",
      "termcolor                1.1.0    \n",
      "terminado                0.8.2    \n",
      "testpath                 0.4.2    \n",
      "tornado                  6.0.3    \n",
      "tqdm                     4.32.1   \n",
      "traitlets                4.3.2    \n",
      "tweepy                   3.8.0    \n",
      "urllib3                  1.22     \n",
      "wcwidth                  0.1.7    \n",
      "webencodings             0.5.1    \n",
      "Werkzeug                 0.15.6   \n",
      "wget                     3.2      \n",
      "wheel                    0.29.0   \n",
      "widgetsnbextension       3.5.1    \n",
      "wrapt                    1.11.2   \n",
      "Note: you may need to restart the kernel to use updated packages.\n"
     ]
    }
   ],
   "source": [
    "%pip list"
   ]
  },
  {
   "cell_type": "code",
   "execution_count": 6,
   "metadata": {},
   "outputs": [],
   "source": [
    "z=x+y"
   ]
  },
  {
   "cell_type": "code",
   "execution_count": null,
   "metadata": {},
   "outputs": [],
   "source": []
  },
  {
   "cell_type": "code",
   "execution_count": 9,
   "metadata": {},
   "outputs": [],
   "source": [
    "def test_me(you, me):\n",
    "    return f\"{me}\""
   ]
  },
  {
   "cell_type": "code",
   "execution_count": 11,
   "metadata": {},
   "outputs": [
    {
     "data": {
      "text/plain": [
       "'You'"
      ]
     },
     "execution_count": 11,
     "metadata": {},
     "output_type": "execute_result"
    }
   ],
   "source": [
    "test_me(None, \"You\")"
   ]
  },
  {
   "cell_type": "code",
   "execution_count": 13,
   "metadata": {},
   "outputs": [
    {
     "name": "stdout",
     "output_type": "stream",
     "text": [
      "selaymun 0\n",
      "selaymun 1\n",
      "selaymun 2\n",
      "selaymun 3\n",
      "selaymun 4\n",
      "selaymun 5\n",
      "selaymun 6\n",
      "selaymun 7\n",
      "selaymun 8\n",
      "selaymun 9\n",
      "selaymun 10\n",
      "selaymun 11\n",
      "selaymun 12\n",
      "selaymun 13\n",
      "selaymun 14\n",
      "selaymun 15\n",
      "selaymun 16\n",
      "selaymun 17\n",
      "selaymun 18\n",
      "selaymun 19\n",
      "selaymun 20\n",
      "selaymun 21\n",
      "selaymun 22\n"
     ]
    }
   ],
   "source": [
    "for i in range (0, 23):\n",
    "    print(\"selaymun {}\".format(i))"
   ]
  },
  {
   "cell_type": "code",
   "execution_count": 2,
   "metadata": {},
   "outputs": [
    {
     "data": {
      "text/plain": [
       "'Ama'"
      ]
     },
     "execution_count": 2,
     "metadata": {},
     "output_type": "execute_result"
    }
   ],
   "source": [
    "# Shift Enter\n",
    "# Alt Enter\n",
    "\"Ama\""
   ]
  },
  {
   "cell_type": "code",
   "execution_count": 3,
   "metadata": {},
   "outputs": [],
   "source": [
    "eray=\"selam\""
   ]
  },
  {
   "cell_type": "markdown",
   "metadata": {},
   "source": [
    "mesel"
   ]
  },
  {
   "cell_type": "code",
   "execution_count": 8,
   "metadata": {},
   "outputs": [
    {
     "data": {
      "text/plain": [
       "'/Users/ccaliskan/Development/presentations/interactive-jupyter'"
      ]
     },
     "execution_count": 8,
     "metadata": {},
     "output_type": "execute_result"
    }
   ],
   "source": [
    "pwd"
   ]
  },
  {
   "cell_type": "markdown",
   "metadata": {},
   "source": [
    "bu bir markdown mesela sonra code olacak"
   ]
  },
  {
   "cell_type": "markdown",
   "metadata": {},
   "source": [
    "# aman aman nereye geldik ya\n",
    "## Selaymuun"
   ]
  },
  {
   "cell_type": "code",
   "execution_count": 22,
   "metadata": {
    "jupyter": {
     "source_hidden": true
    }
   },
   "outputs": [],
   "source": [
    "# pasif için ESC"
   ]
  },
  {
   "cell_type": "code",
   "execution_count": 9,
   "metadata": {},
   "outputs": [
    {
     "name": "stderr",
     "output_type": "stream",
     "text": [
      "UsageError: %%time is a cell magic, but the cell body is empty. Did you mean the line magic %time (single %)?\n"
     ]
    }
   ],
   "source": [
    "%%time"
   ]
  },
  {
   "cell_type": "code",
   "execution_count": 11,
   "metadata": {},
   "outputs": [
    {
     "name": "stdout",
     "output_type": "stream",
     "text": [
      "time olan range\n",
      "time olan range\n",
      "time olan range\n",
      "time olan range\n",
      "time olan range\n",
      "time olan range\n",
      "time olan range\n",
      "time olan range\n",
      "time olan range\n",
      "time olan range\n",
      "time olan range\n",
      "time olan range\n",
      "time olan range\n",
      "time olan range\n",
      "time olan range\n",
      "time olan range\n",
      "time olan range\n",
      "time olan range\n",
      "time olan range\n",
      "time olan range\n",
      "time olan range\n",
      "time olan range\n",
      "time olan range\n",
      "time olan range\n",
      "time olan range\n",
      "time olan range\n",
      "time olan range\n",
      "time olan range\n",
      "time olan range\n",
      "time olan range\n",
      "time olan range\n",
      "time olan range\n",
      "time olan range\n",
      "time olan range\n",
      "time olan range\n",
      "time olan range\n",
      "time olan range\n",
      "time olan range\n",
      "time olan range\n",
      "time olan range\n",
      "time olan range\n",
      "time olan range\n",
      "time olan range\n",
      "time olan range\n",
      "time olan range\n",
      "time olan range\n",
      "time olan range\n",
      "time olan range\n",
      "time olan range\n",
      "time olan range\n",
      "CPU times: user 1.4 ms, sys: 751 µs, total: 2.15 ms\n",
      "Wall time: 1.43 ms\n"
     ]
    }
   ],
   "source": [
    "%%time\n",
    "for i in range(0, 50):\n",
    "    print(\"time olan range\")"
   ]
  },
  {
   "cell_type": "code",
   "execution_count": 13,
   "metadata": {},
   "outputs": [
    {
     "name": "stdout",
     "output_type": "stream",
     "text": [
      "^C\n"
     ]
    }
   ],
   "source": [
    "!cat"
   ]
  },
  {
   "cell_type": "code",
   "execution_count": 17,
   "metadata": {},
   "outputs": [
    {
     "name": "stdout",
     "output_type": "stream",
     "text": [
      "/bin/sh: pw: command not found\n"
     ]
    }
   ],
   "source": [
    "!pw"
   ]
  },
  {
   "cell_type": "code",
   "execution_count": 31,
   "metadata": {},
   "outputs": [
    {
     "name": "stdout",
     "output_type": "stream",
     "text": [
      "/Users/ccaliskan/Development/presentations/interactive-jupyter\n"
     ]
    }
   ],
   "source": [
    "!pwd"
   ]
  },
  {
   "cell_type": "code",
   "execution_count": 19,
   "metadata": {},
   "outputs": [
    {
     "name": "stdout",
     "output_type": "stream",
     "text": [
      "/bin/sh: ll: command not found\n"
     ]
    }
   ],
   "source": [
    "!ll"
   ]
  },
  {
   "cell_type": "code",
   "execution_count": 33,
   "metadata": {},
   "outputs": [
    {
     "name": "stdout",
     "output_type": "stream",
     "text": [
      "/bin/sh: la: command not found\n"
     ]
    }
   ],
   "source": [
    "!la"
   ]
  },
  {
   "cell_type": "code",
   "execution_count": 34,
   "metadata": {},
   "outputs": [
    {
     "name": "stdout",
     "output_type": "stream",
     "text": [
      "total 16\n",
      "drwxr-xr-x  5 ccaliskan  1723434838   160 Sep  3 23:58 \u001b[1m\u001b[36m.\u001b[m\u001b[m\n",
      "drwxr-xr-x  4 ccaliskan  1723434838   128 Sep  3 23:32 \u001b[1m\u001b[36m..\u001b[m\u001b[m\n",
      "drwxr-xr-x  4 ccaliskan  1723434838   128 Sep  3 23:52 \u001b[1m\u001b[36m.ipynb_checkpoints\u001b[m\u001b[m\n",
      "-rw-r--r--  1 ccaliskan  1723434838  4038 Sep  3 23:58 AIA01.ipynb\n",
      "-rw-r--r--  1 ccaliskan  1723434838   715 Sep  3 18:53 Untitled.ipynb\n"
     ]
    }
   ],
   "source": [
    "!ls -la"
   ]
  },
  {
   "cell_type": "code",
   "execution_count": null,
   "metadata": {},
   "outputs": [],
   "source": [
    "!cd ../../ && ls -la"
   ]
  },
  {
   "cell_type": "code",
   "execution_count": 22,
   "metadata": {},
   "outputs": [
    {
     "name": "stdout",
     "output_type": "stream",
     "text": [
      "ccaliskan\n",
      "/Users/ccaliskan/Development/presentations/interactive-jupyter\n",
      "naber hacım\n",
      "alt satıra indim\n",
      "ccaliskan\n"
     ]
    }
   ],
   "source": [
    "%%bash\n",
    "whoami && pwd && echo \"naber hacım\"\n",
    "echo \"alt satıra indim\"\n",
    "whoami"
   ]
  },
  {
   "cell_type": "code",
   "execution_count": 23,
   "metadata": {},
   "outputs": [
    {
     "data": {
      "application/json": {
       "cell": {
        "!": "OSMagics",
        "HTML": "Other",
        "SVG": "Other",
        "bash": "Other",
        "capture": "ExecutionMagics",
        "debug": "ExecutionMagics",
        "file": "Other",
        "html": "DisplayMagics",
        "javascript": "DisplayMagics",
        "js": "DisplayMagics",
        "latex": "DisplayMagics",
        "markdown": "DisplayMagics",
        "perl": "Other",
        "prun": "ExecutionMagics",
        "pypy": "Other",
        "python": "Other",
        "python2": "Other",
        "python3": "Other",
        "ruby": "Other",
        "script": "ScriptMagics",
        "sh": "Other",
        "svg": "DisplayMagics",
        "sx": "OSMagics",
        "system": "OSMagics",
        "time": "ExecutionMagics",
        "timeit": "ExecutionMagics",
        "writefile": "OSMagics"
       },
       "line": {
        "alias": "OSMagics",
        "alias_magic": "BasicMagics",
        "autoawait": "AsyncMagics",
        "autocall": "AutoMagics",
        "automagic": "AutoMagics",
        "autosave": "KernelMagics",
        "bookmark": "OSMagics",
        "cat": "Other",
        "cd": "OSMagics",
        "clear": "KernelMagics",
        "colors": "BasicMagics",
        "conda": "PackagingMagics",
        "config": "ConfigMagics",
        "connect_info": "KernelMagics",
        "cp": "Other",
        "debug": "ExecutionMagics",
        "dhist": "OSMagics",
        "dirs": "OSMagics",
        "doctest_mode": "BasicMagics",
        "ed": "Other",
        "edit": "KernelMagics",
        "env": "OSMagics",
        "gui": "BasicMagics",
        "hist": "Other",
        "history": "HistoryMagics",
        "killbgscripts": "ScriptMagics",
        "ldir": "Other",
        "less": "KernelMagics",
        "lf": "Other",
        "lk": "Other",
        "ll": "Other",
        "load": "CodeMagics",
        "load_ext": "ExtensionMagics",
        "loadpy": "CodeMagics",
        "logoff": "LoggingMagics",
        "logon": "LoggingMagics",
        "logstart": "LoggingMagics",
        "logstate": "LoggingMagics",
        "logstop": "LoggingMagics",
        "ls": "Other",
        "lsmagic": "BasicMagics",
        "lx": "Other",
        "macro": "ExecutionMagics",
        "magic": "BasicMagics",
        "man": "KernelMagics",
        "matplotlib": "PylabMagics",
        "mkdir": "Other",
        "more": "KernelMagics",
        "mv": "Other",
        "notebook": "BasicMagics",
        "page": "BasicMagics",
        "pastebin": "CodeMagics",
        "pdb": "ExecutionMagics",
        "pdef": "NamespaceMagics",
        "pdoc": "NamespaceMagics",
        "pfile": "NamespaceMagics",
        "pinfo": "NamespaceMagics",
        "pinfo2": "NamespaceMagics",
        "pip": "PackagingMagics",
        "popd": "OSMagics",
        "pprint": "BasicMagics",
        "precision": "BasicMagics",
        "prun": "ExecutionMagics",
        "psearch": "NamespaceMagics",
        "psource": "NamespaceMagics",
        "pushd": "OSMagics",
        "pwd": "OSMagics",
        "pycat": "OSMagics",
        "pylab": "PylabMagics",
        "qtconsole": "KernelMagics",
        "quickref": "BasicMagics",
        "recall": "HistoryMagics",
        "rehashx": "OSMagics",
        "reload_ext": "ExtensionMagics",
        "rep": "Other",
        "rerun": "HistoryMagics",
        "reset": "NamespaceMagics",
        "reset_selective": "NamespaceMagics",
        "rm": "Other",
        "rmdir": "Other",
        "run": "ExecutionMagics",
        "save": "CodeMagics",
        "sc": "OSMagics",
        "set_env": "OSMagics",
        "store": "StoreMagics",
        "sx": "OSMagics",
        "system": "OSMagics",
        "tb": "ExecutionMagics",
        "time": "ExecutionMagics",
        "timeit": "ExecutionMagics",
        "unalias": "OSMagics",
        "unload_ext": "ExtensionMagics",
        "who": "NamespaceMagics",
        "who_ls": "NamespaceMagics",
        "whos": "NamespaceMagics",
        "xdel": "NamespaceMagics",
        "xmode": "BasicMagics"
       }
      },
      "text/plain": [
       "Available line magics:\n",
       "%alias  %alias_magic  %autoawait  %autocall  %automagic  %autosave  %bookmark  %cat  %cd  %clear  %colors  %conda  %config  %connect_info  %cp  %debug  %dhist  %dirs  %doctest_mode  %ed  %edit  %env  %gui  %hist  %history  %killbgscripts  %ldir  %less  %lf  %lk  %ll  %load  %load_ext  %loadpy  %logoff  %logon  %logstart  %logstate  %logstop  %ls  %lsmagic  %lx  %macro  %magic  %man  %matplotlib  %mkdir  %more  %mv  %notebook  %page  %pastebin  %pdb  %pdef  %pdoc  %pfile  %pinfo  %pinfo2  %pip  %popd  %pprint  %precision  %prun  %psearch  %psource  %pushd  %pwd  %pycat  %pylab  %qtconsole  %quickref  %recall  %rehashx  %reload_ext  %rep  %rerun  %reset  %reset_selective  %rm  %rmdir  %run  %save  %sc  %set_env  %store  %sx  %system  %tb  %time  %timeit  %unalias  %unload_ext  %who  %who_ls  %whos  %xdel  %xmode\n",
       "\n",
       "Available cell magics:\n",
       "%%!  %%HTML  %%SVG  %%bash  %%capture  %%debug  %%file  %%html  %%javascript  %%js  %%latex  %%markdown  %%perl  %%prun  %%pypy  %%python  %%python2  %%python3  %%ruby  %%script  %%sh  %%svg  %%sx  %%system  %%time  %%timeit  %%writefile\n",
       "\n",
       "Automagic is ON, % prefix IS NOT needed for line magics."
      ]
     },
     "execution_count": 23,
     "metadata": {},
     "output_type": "execute_result"
    }
   ],
   "source": [
    "%lsmagic"
   ]
  },
  {
   "cell_type": "code",
   "execution_count": null,
   "metadata": {},
   "outputs": [],
   "source": [
    "pip freeze"
   ]
  },
  {
   "cell_type": "code",
   "execution_count": 32,
   "metadata": {},
   "outputs": [
    {
     "name": "stdout",
     "output_type": "stream",
     "text": [
      "scipy==1.3.1\n"
     ]
    }
   ],
   "source": [
    "%%bash\n",
    "pip freeze | grep scipy"
   ]
  },
  {
   "cell_type": "code",
   "execution_count": 12,
   "metadata": {},
   "outputs": [],
   "source": [
    "# matplotlib output command in this UI\n",
    "%matplotlib inline"
   ]
  },
  {
   "cell_type": "code",
   "execution_count": null,
   "metadata": {},
   "outputs": [],
   "source": [
    "%env"
   ]
  },
  {
   "cell_type": "code",
   "execution_count": 34,
   "metadata": {},
   "outputs": [
    {
     "data": {
      "text/plain": [
       "'en_US.UTF-8'"
      ]
     },
     "execution_count": 34,
     "metadata": {},
     "output_type": "execute_result"
    }
   ],
   "source": [
    "%env LC_ALL"
   ]
  },
  {
   "cell_type": "code",
   "execution_count": 35,
   "metadata": {},
   "outputs": [],
   "source": [
    "# %load load_me\n",
    "def load_me(naber):\n",
    "    return \"iyidir\"\n",
    "\n",
    "print(\"Load me bronXxxxx\")"
   ]
  },
  {
   "cell_type": "code",
   "execution_count": null,
   "metadata": {},
   "outputs": [],
   "source": [
    "%run classification.ipynb"
   ]
  },
  {
   "cell_type": "code",
   "execution_count": 39,
   "metadata": {},
   "outputs": [
    {
     "name": "stderr",
     "output_type": "stream",
     "text": [
      "ERROR:root:File `'classification.py'` not found.\n"
     ]
    }
   ],
   "source": [
    "%run classification.ipynb"
   ]
  },
  {
   "cell_type": "code",
   "execution_count": 38,
   "metadata": {},
   "outputs": [
    {
     "name": "stdout",
     "output_type": "stream",
     "text": [
      "CPU times: user 3 µs, sys: 2 µs, total: 5 µs\n",
      "Wall time: 10 µs\n"
     ]
    }
   ],
   "source": [
    "%time"
   ]
  },
  {
   "cell_type": "code",
   "execution_count": 43,
   "metadata": {},
   "outputs": [],
   "source": [
    "from scipy.io import wavfile"
   ]
  },
  {
   "cell_type": "code",
   "execution_count": 48,
   "metadata": {},
   "outputs": [
    {
     "name": "stdout",
     "output_type": "stream",
     "text": [
      "Uninstalling scipy-1.3.1:\n",
      "^C\n",
      "Note: you may need to restart the kernel to use updated packages.\n"
     ]
    }
   ],
   "source": [
    "pip uninstall scipy -y"
   ]
  },
  {
   "cell_type": "code",
   "execution_count": 49,
   "metadata": {},
   "outputs": [
    {
     "ename": "NameError",
     "evalue": "name 'wawfile' is not defined",
     "output_type": "error",
     "traceback": [
      "\u001b[0;31m--------------------------------------------------------\u001b[0m",
      "\u001b[0;31mNameError\u001b[0m              Traceback (most recent call last)",
      "\u001b[0;32m<ipython-input-49-d119c91539f0>\u001b[0m in \u001b[0;36m<module>\u001b[0;34m\u001b[0m\n\u001b[0;32m----> 1\u001b[0;31m \u001b[0mrate\u001b[0m\u001b[0;34m,\u001b[0m \u001b[0mx\u001b[0m \u001b[0;34m=\u001b[0m \u001b[0mwawfile\u001b[0m\u001b[0;34m.\u001b[0m\u001b[0mread\u001b[0m\u001b[0;34m(\u001b[0m\u001b[0;34m\"test.wav\"\u001b[0m\u001b[0;34m)\u001b[0m\u001b[0;34m\u001b[0m\u001b[0m\n\u001b[0m",
      "\u001b[0;31mNameError\u001b[0m: name 'wawfile' is not defined"
     ]
    }
   ],
   "source": [
    "rate, x = wawfile.read(\"test.wav\")"
   ]
  },
  {
   "cell_type": "code",
   "execution_count": 50,
   "metadata": {},
   "outputs": [
    {
     "data": {
      "image/png": "[encoded data removed]",
      "text/plain": [
       "<Figure size 432x288 with 1 Axes>"
      ]
     },
     "metadata": {
      "needs_background": "light"
     },
     "output_type": "display_data"
    }
   ],
   "source": [
    "# PLOT\n",
    "%matplotlib inline\n",
    "from matplotlib import pyplot as plt\n",
    "\n",
    "x = range(1000)\n",
    "y = [i ** 2 for i in x]\n",
    "plt.plot(x,y)\n",
    "plt.show()"
   ]
  },
  {
   "cell_type": "code",
   "execution_count": 51,
   "metadata": {},
   "outputs": [
    {
     "data": {
      "image/png": "[encoded data removed]",
      "text/plain": [
       "<Figure size 432x288 with 1 Axes>"
      ]
     },
     "metadata": {
      "image/png": {
       "height": 248,
       "width": 401
      },
      "needs_background": "light"
     },
     "output_type": "display_data"
    }
   ],
   "source": [
    "%config InlineBackend.figure_format ='retina'\n",
    "plt.plot(x,y)\n",
    "plt.show();"
   ]
  },
  {
   "cell_type": "code",
   "execution_count": 54,
   "metadata": {},
   "outputs": [
    {
     "ename": "NameError",
     "evalue": "name 'a' is not defined",
     "output_type": "error",
     "traceback": [
      "\u001b[0;31m--------------------------------------------------------\u001b[0m",
      "\u001b[0;31mNameError\u001b[0m              Traceback (most recent call last)",
      "\u001b[0;32m<ipython-input-54-3f786850e387>\u001b[0m in \u001b[0;36m<module>\u001b[0;34m\u001b[0m\n\u001b[0;32m----> 1\u001b[0;31m \u001b[0ma\u001b[0m\u001b[0;34m\u001b[0m\u001b[0m\n\u001b[0m",
      "\u001b[0;31mNameError\u001b[0m: name 'a' is not defined"
     ]
    }
   ],
   "source": [
    "a"
   ]
  },
  {
   "cell_type": "code",
   "execution_count": 55,
   "metadata": {},
   "outputs": [
    {
     "ename": "NameError",
     "evalue": "name 'b' is not defined",
     "output_type": "error",
     "traceback": [
      "\u001b[0;31m--------------------------------------------------------\u001b[0m",
      "\u001b[0;31mNameError\u001b[0m              Traceback (most recent call last)",
      "\u001b[0;32m<ipython-input-55-89e6c98d9288>\u001b[0m in \u001b[0;36m<module>\u001b[0;34m\u001b[0m\n\u001b[0;32m----> 1\u001b[0;31m \u001b[0mb\u001b[0m\u001b[0;34m\u001b[0m\u001b[0m\n\u001b[0m",
      "\u001b[0;31mNameError\u001b[0m: name 'b' is not defined"
     ]
    }
   ],
   "source": [
    "b"
   ]
  },
  {
   "cell_type": "raw",
   "metadata": {},
   "source": []
  }
 ],
 "metadata": {
  "kernelspec": {
   "display_name": "Python 3",
   "language": "python",
   "name": "python3"
  },
  "language_info": {
   "codemirror_mode": {
    "name": "ipython",
    "version": 3
   },
   "file_extension": ".py",
   "mimetype": "text/x-python",
   "name": "python",
   "nbconvert_exporter": "python",
   "pygments_lexer": "ipython3",
   "version": "3.6.3"
  }
 },
 "nbformat": 4,
 "nbformat_minor": 4
}
